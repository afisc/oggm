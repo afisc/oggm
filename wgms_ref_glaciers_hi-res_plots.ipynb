{
 "cells": [
  {
   "cell_type": "markdown",
   "metadata": {},
   "source": [
    "# WGMS reference glaciers - standard projections plots \n",
    "### based on _10 minutes to..._ a glacier change projection with GCM data"
   ]
  },
  {
   "cell_type": "markdown",
   "metadata": {},
   "source": [
    "This notebook creates animations of the modeled evolution of certain glaciers from the year 2000 to the year 2001. The model is forced with the climate predictions of one member of the ISIMIP3b climate model for 3 different climate scenarios(ssp126, ssp370, ssp585).  \n",
    "To visualize the animations the [oggm-3dviz library](https://github.com/OGGM/oggm-3dviz) is used."
   ]
  },
  {
   "cell_type": "markdown",
   "metadata": {},
   "source": [
    "# hi-res attempt"
   ]
  },
  {
   "cell_type": "code",
   "execution_count": null,
   "metadata": {},
   "outputs": [],
   "source": [
    "from oggm import cfg, utils, workflow, tasks, DEFAULT_BASE_URL\n",
    "import matplotlib.pyplot as plt\n",
    "import geopandas as gpd\n",
    "import numpy as np\n",
    "import os\n",
    "import xarray as xr\n",
    "from oggm.shop import gcm_climate\n",
    "from os.path import join"
   ]
  },
  {
   "cell_type": "code",
   "execution_count": null,
   "metadata": {},
   "outputs": [],
   "source": [
    "# we always need to initialzie and define a working directory\n",
    "cfg.initialize(logging_level='WARNING')\n",
    "cfg.PATHS['working_dir'] = '/Users/afisc/atmo_master/rgi_job/oggm-3dviz/wgms_hi-res'\n",
    "\n"
   ]
  },
  {
   "cell_type": "code",
   "execution_count": null,
   "metadata": {},
   "outputs": [],
   "source": [
    "# glaciers chosen for visualization\n",
    "glac_dict = {\n",
    "    # Alaska\n",
    "    \"Wolverine Glacier\": {\n",
    "        \"rgi_id\": \"RGI60-01.09162\",\n",
    "        \"camera_params\": {\n",
    "            'azimuth': -135, # rotate around the z-axis\n",
    "            'elevation': 20,  # elevation angle above ground\n",
    "        },\n",
    "        \"fl_thickness_threshold\": 1,\n",
    "        \"rolling_mean_smoothing\": 5,\n",
    "        \"crop\": {\n",
    "            \"x_crop\": 0.8,\n",
    "            \"y_crop\": 0.8\n",
    "        },\n",
    "    }, # check_geom: WARN:WasInvalid;\n",
    "    # Arctic Canada North\n",
    "    \"White Glacier\": {\n",
    "        \"rgi_id\": \"RGI60-03.04539\",\n",
    "        \"camera_params\": {\n",
    "            'azimuth': -135, # rotate around the z-axis\n",
    "                    'elevation': 20,  # elevation angle above ground\n",
    "            },\n",
    "        \"fl_thickness_threshold\": 1,\n",
    "        \"rolling_mean_smoothing\": 5,\n",
    "        \"crop\": {\n",
    "            \"x_crop\": 0.65,\n",
    "            \"y_crop\": 0.7\n",
    "        },\n",
    "        },\n",
    "    # Svalbard\n",
    "    \"Austre Broeggerbreen\": {\n",
    "        \"rgi_id\": \"RGI60-07.00504\",\n",
    "        \"camera_params\": {\n",
    "            'azimuth': 45, # rotate around the z-axis\n",
    "                    'elevation': 20,  # elevation angle above ground\n",
    "            },\n",
    "        \"fl_thickness_threshold\": 1,\n",
    "        \"rolling_mean_smoothing\": 5\n",
    "        },\n",
    "    # Scandinavia\n",
    "    \"Nigardsbreen\": {\n",
    "        \"rgi_id\": \"RGI60-08.01126\",\n",
    "        \"camera_params\": {\n",
    "            'azimuth': -90, # rotate around the z-axis\n",
    "                    'elevation': 20,  # elevation angle above ground\n",
    "            },\n",
    "        \"fl_thickness_threshold\": 1,\n",
    "        \"rolling_mean_smoothing\": 5,\n",
    "        \"crop\": {\n",
    "            \"x_crop\": 0.8,\n",
    "            \"y_crop\": 0.8\n",
    "            }\n",
    "        },\n",
    "    # Central Europe\n",
    "    \"Pasterze\": {\n",
    "        \"rgi_id\": \"RGI60-11.00106\",\n",
    "        \"camera_params\": {\n",
    "            'azimuth': -90, # rotate around the z-axis\n",
    "                    'elevation': 20,  # elevation angle above ground\n",
    "            },\n",
    "        \"fl_thickness_threshold\": 1.5, # had a little bit of flickering in the end of the ssp370 scenario\n",
    "        \"rolling_mean_smoothing\": 5,\n",
    "        \"crop\": {\n",
    "            \"x_crop\": 0.8,\n",
    "            \"y_crop\": 0.8\n",
    "            }\n",
    "        },\n",
    "    # Caucasus\n",
    "    \"Garabashi Glacier\": {\n",
    "        \"rgi_id\": \"RGI60-12.00161\",\n",
    "        \"camera_params\": {\n",
    "            'azimuth': -135, # rotate around the z-axis\n",
    "                    'elevation': 20,  # elevation angle above ground\n",
    "            },\n",
    "        \"fl_thickness_threshold\": 1,\n",
    "        \"rolling_mean_smoothing\": 5,\n",
    "        \"crop\": {\n",
    "            \"x_crop\": 0.8,\n",
    "            \"y_crop\": 0.8\n",
    "            }\n",
    "        },\n",
    "    # Central Asia\n",
    "    \"Golubin Glacier\": {\n",
    "        \"rgi_id\": \"RGI60-13.11609\",\n",
    "        \"camera_params\": {\n",
    "            'azimuth': 75, # rotate around the z-axis\n",
    "                    'elevation': 20,  # elevation angle above ground\n",
    "            },\n",
    "        \"fl_thickness_threshold\": 1,\n",
    "        \"rolling_mean_smoothing\": 5,\n",
    "        \"crop\": {\n",
    "            \"x_crop\": 0.7,\n",
    "            \"y_crop\": 0.7\n",
    "            },\n",
    "        },\n",
    "    # Southern Andes\n",
    "    \"Echaurren Norte\": {\n",
    "        \"rgi_id\":\"RGI60-17.13715\",\n",
    "        \"camera_params\": {\n",
    "            'azimuth': -100, # rotate around the z-axis\n",
    "                    'elevation': 20,  # elevation angle above ground\n",
    "            },\n",
    "        \"fl_thickness_threshold\": 3, # had a lot of flickering in (almost) all scenarios\n",
    "        \"rolling_mean_smoothing\": 8,\n",
    "        \"crop\": {\n",
    "            \"x_crop\": 0.5,\n",
    "            \"y_crop\": 0.5\n",
    "            },\n",
    "        },\n",
    "\n",
    "    \n",
    "    # additional Glaiciers\n",
    "    # Southern Andes\n",
    "    \"Upsala + Cono\": {\n",
    "        \"rgi_id\":\"RGI60-17.00172\",\n",
    "        \"camera_params\": {\n",
    "            'azimuth': -135, # rotate around the z-axis\n",
    "                    'elevation': 20,  # elevation angle above ground\n",
    "            },\n",
    "        \"fl_thickness_threshold\": 1, # had a lot of flickering in (almost) all scenarios\n",
    "        \"rolling_mean_smoothing\": 5,\n",
    "        \"crop\": {\n",
    "            \"x_crop\": None,\n",
    "            \"y_crop\": 0.85\n",
    "            },\n",
    "        },\n",
    "    # Himalaya\n",
    "    \"Khumbu Glacier\": {\n",
    "        \"rgi_id\": \"RGI60-15.03733\",\n",
    "        \"camera_params\": {\n",
    "            'azimuth': 135, # rotate around the z-axis\n",
    "                    'elevation': 20,  # elevation angle above ground\n",
    "            },\n",
    "        \"fl_thickness_threshold\": 1, # had a lot of flickering in (almost) all scenarios\n",
    "        \"rolling_mean_smoothing\": 5,\n",
    "        \n",
    "        \"crop\": {\n",
    "            \"x_crop\": 0.85,\n",
    "            \"y_crop\": 0.85\n",
    "            },\n",
    "        },\n",
    "    }\n",
    "\n",
    "glac_names = list(glac_dict.keys())\n",
    "rgi_ids = [glacier[\"rgi_id\"] for glacier in glac_dict.values()]\n",
    "\n"
   ]
  },
  {
   "cell_type": "code",
   "execution_count": null,
   "metadata": {},
   "outputs": [],
   "source": [
    "# Instruction for beginning with existing OGGM's preprocessed directories\n",
    "load_from_prepro_base_url = True\n",
    "if load_from_prepro_base_url:\n",
    "    # to start from level 0 you can do\n",
    "    prepro_base_url_L0 = 'https://cluster.klima.uni-bremen.de/~oggm/gdirs/oggm_v1.6/L1-L2_files/elev_bands/'\n",
    "    gdirs = workflow.init_glacier_directories(rgi_ids,\n",
    "                                              from_prepro_level=0,\n",
    "                                              prepro_base_url=prepro_base_url_L0,\n",
    "                                              prepro_border=80,  # could be 10, 80, 160 or 240\n",
    "                                              reset=True,\n",
    "                                              force=True,\n",
    "                                             )"
   ]
  },
  {
   "cell_type": "markdown",
   "metadata": {},
   "source": [
    "SET \"dx\"(grid size) HERE:"
   ]
  },
  {
   "cell_type": "code",
   "execution_count": null,
   "metadata": {},
   "outputs": [],
   "source": [
    "# define the border, we keep the default here\n",
    "cfg.PARAMS['border'] = cfg.PARAMS['border']\n",
    "\n",
    "# set the method for determining the local grid resolution\n",
    "cfg.PARAMS['grid_dx_method'] = 'fixed'  # The default method is 'square', which determines the grid spacing (dx) based on the glacier's outline area.\n",
    "cfg.PARAMS['fixed_dx'] = 30  # This allows setting a specific resolution in meters. It's applicable only when grid_dx_method is set to 'fixed'.\n",
    "\n",
    "# set the DEM source to use\n",
    "source = 'COPDEM30'  # we stick with the OGGM default\n",
    "\n",
    "# this task adds the DEM and defines the local grid\n",
    "workflow.execute_entity_task(tasks.define_glacier_region, gdirs,\n",
    "                             source=source);\n"
   ]
  },
  {
   "cell_type": "code",
   "execution_count": null,
   "metadata": {},
   "outputs": [],
   "source": [
    "flowline_type_to_use = 'elevation_band'  # you can also select 'centerline' here\n",
    "\n",
    "if flowline_type_to_use == 'elevation_band':\n",
    "    elevation_band_task_list = [\n",
    "        tasks.simple_glacier_masks,\n",
    "        tasks.elevation_band_flowline,\n",
    "        tasks.fixed_dx_elevation_band_flowline,\n",
    "        tasks.compute_downstream_line,\n",
    "        tasks.compute_downstream_bedshape,\n",
    "    ]\n",
    "\n",
    "    for task in elevation_band_task_list:\n",
    "        workflow.execute_entity_task(task, gdirs);\n",
    "\n",
    "elif flowline_type_to_use == 'centerline':\n",
    "    # for centerline we can use parabola downstream line\n",
    "    cfg.PARAMS['downstream_line_shape'] = 'parabola'\n",
    "\n",
    "    centerline_task_list = [\n",
    "        tasks.glacier_masks,\n",
    "        tasks.compute_centerlines,\n",
    "        tasks.initialize_flowlines,\n",
    "        tasks.catchment_area,\n",
    "        tasks.catchment_intersections,\n",
    "        tasks.catchment_width_geom,\n",
    "        tasks.catchment_width_correction,\n",
    "        tasks.compute_downstream_line,\n",
    "        tasks.compute_downstream_bedshape,\n",
    "    ]\n",
    "\n",
    "    for task in centerline_task_list:\n",
    "        workflow.execute_entity_task(task, gdirs);\n",
    "    \n",
    "else:\n",
    "    raise ValueError(f\"Unknown flowline type '{flowline_type_to_use}'! Select 'elevation_band' or 'centerline'!\")\n"
   ]
  },
  {
   "cell_type": "code",
   "execution_count": null,
   "metadata": {},
   "outputs": [],
   "source": [
    "# define the climate data to use, we keep the default\n",
    "cfg.PARAMS['baseline_climate'] = cfg.PARAMS['baseline_climate']\n",
    "\n",
    "# add climate data to gdir\n",
    "workflow.execute_entity_task(tasks.process_climate_data, gdirs);\n",
    "\n",
    "# the default mb calibration\n",
    "workflow.execute_entity_task(tasks.mb_calibration_from_geodetic_mb,\n",
    "                             gdirs,\n",
    "                             informed_threestep=True,  # only available for 'GSWP3_W5E5'\n",
    "                            );\n",
    "\n",
    "# glacier bed inversion\n",
    "workflow.execute_entity_task(tasks.apparent_mb_from_any_mb, gdirs);\n",
    "workflow.calibrate_inversion_from_consensus(\n",
    "    gdirs,\n",
    "    apply_fs_on_mismatch=True,\n",
    "    error_on_mismatch=True,  # if you running many glaciers some might not work\n",
    "    filter_inversion_output=True,  # this partly filters the overdeepening due to\n",
    "    # the equilibrium assumption for retreating glaciers (see. Figure 5 of Maussion et al. 2019)\n",
    "    volume_m3_reference=None,  # here you could provide your own total volume estimate in m3\n",
    ");\n",
    "\n",
    "# finally create the dynamic flowlines\n",
    "workflow.execute_entity_task(tasks.init_present_time_glacier, gdirs);\n"
   ]
  },
  {
   "cell_type": "code",
   "execution_count": null,
   "metadata": {},
   "outputs": [],
   "source": [
    "cfg.PARAMS['store_fl_diagnostics'] = True\n",
    "\n",
    "# set the ice dynamic solver depending on the flowline-type\n",
    "if flowline_type_to_use == 'elevation_band':\n",
    "    cfg.PARAMS['evolution_model'] = 'SemiImplicit'\n",
    "elif flowline_type_to_use == 'centerline':\n",
    "    cfg.PARAMS['evolution_model'] = 'FluxBased'\n",
    "else:\n",
    "    raise ValueError(f\"Unknown flowline type '{flowline_type_to_use}'! Select 'elevation_band' or 'centerline'!\")\n",
    "\n",
    "# get the start and end year of the selected baseline\n",
    "y0 = gdirs[0].get_climate_info()['baseline_yr_0']\n",
    "ye = gdirs[0].get_climate_info()['baseline_yr_1'] + 1  # run really to the end until 1.1.\n",
    "\n",
    "\n",
    "# 'dynamic' initialisation, including dynamic mb calibration\n",
    "dynamic_spinup_start_year = 1979\n",
    "minimise_for = 'area'  # other option would be 'volume'\n",
    "workflow.execute_entity_task(\n",
    "    tasks.run_dynamic_melt_f_calibration, gdirs,\n",
    "    err_dmdtda_scaling_factor=0.2,  # by default we reduce the mass balance error for accounting for\n",
    "    # corrleated uncertainties on a regional scale\n",
    "    ys=dynamic_spinup_start_year, ye=ye,\n",
    "    kwargs_run_function={'minimise_for': minimise_for},\n",
    "    ignore_errors=True,\n",
    "    kwargs_fallback_function={'minimise_for': minimise_for},\n",
    "    output_filesuffix='_spinup_historical',\n",
    "    \n",
    ");"
   ]
  },
  {
   "cell_type": "markdown",
   "metadata": {
    "tags": []
   },
   "source": [
    "## Selecting glaciers and setting their plotting/animation attributes here"
   ]
  },
  {
   "cell_type": "markdown",
   "metadata": {},
   "source": [
    "currently selected a few reference glaciers from [this list](https://wgms.ch/products_ref_glaciers/) for different regions.  \n",
    "Furthermore certain glaciers of own interest were added to the list(e.g. Upsala, Khumbu)"
   ]
  },
  {
   "cell_type": "markdown",
   "metadata": {},
   "source": [
    "The glacier volume and area changes before that date are highly uncertain and serve the purpose of spinup only! In the [\"10 minutes to... a dynamical spinup\"](dynamical_spinup.ipynb) tutorial, we talk about why. For now, these files are perfect for our purpose, since we plan to start our simulation in 2020."
   ]
  },
  {
   "cell_type": "markdown",
   "metadata": {},
   "source": [
    "## Download and process GCM data from ISIMIP3b (bias-corrected CMIP6)"
   ]
  },
  {
   "cell_type": "markdown",
   "metadata": {},
   "source": [
    "A typical use case for OGGM will be to use climate model output (here bias-corrected CMIP6 GCMs from [ISIMIP3b](https://www.isimip.org/gettingstarted/isimip3b-bias-adjustment/)). We use the files [we mirrored in Bremen](https://cluster.klima.uni-bremen.de/~oggm/cmip6/isimip3b/flat/monthly/) here, but you can use whichever you want. From ISIMIP3b, we have 5 GCMs and 3 SSPs on the cluster. You can find more information on the [ISIMIP website](https://www.isimip.org/gettingstarted/isimip3b-bias-adjustment). Let's download the data:"
   ]
  },
  {
   "cell_type": "code",
   "execution_count": null,
   "metadata": {
    "tags": []
   },
   "outputs": [],
   "source": [
    "# you can choose one of these 5 different GCMs:\n",
    "# 'gfdl-esm4_r1i1p1f1', 'mpi-esm1-2-hr_r1i1p1f1', 'mri-esm2-0_r1i1p1f1' (\"low sensitivity\" models, within typical ranges from AR6)\n",
    "# 'ipsl-cm6a-lr_r1i1p1f1', 'ukesm1-0-ll_r1i1p1f2' (\"hotter\" models, especially ukesm1-0-ll)\n",
    "member = 'mri-esm2-0_r1i1p1f1' \n",
    "\n",
    "for ssp in ['ssp126', 'ssp370','ssp585']:\n",
    "    # bias correct them\n",
    "    workflow.execute_entity_task(gcm_climate.process_monthly_isimip_data, gdirs, \n",
    "                                 ssp = ssp,\n",
    "                                 # gcm member -> you can choose another one\n",
    "                                 member=member,\n",
    "                                 # recognize the climate file for later\n",
    "                                 output_filesuffix=f'_ISIMIP3b_{member}_{ssp}',\n",
    "                                 );"
   ]
  },
  {
   "cell_type": "markdown",
   "metadata": {},
   "source": [
    "The advantage of using ISIMIP3b data is that they have been bias-corrected by the ISIMIP consortium. Since we are using the [W5E5](https://docs.oggm.org/en/latest/climate-data.html#w5e5) dataset as the baseline climate in OGGM v1.6, there is no need for us to bias correct any further. If you want to bias-correct the projections yourself or want to have a larger variety of GCMs, you can also use the original CMIP5 or CMIP6 GCMs.\n",
    "\n",
    "If you want to know which historical data you are using, you can ask OGGM:"
   ]
  },
  {
   "cell_type": "code",
   "execution_count": null,
   "metadata": {
    "tags": []
   },
   "outputs": [],
   "source": [
    "gdirs[0].get_climate_info()"
   ]
  },
  {
   "cell_type": "markdown",
   "metadata": {},
   "source": [
    "## Projection runs "
   ]
  },
  {
   "cell_type": "markdown",
   "metadata": {},
   "source": [
    "We now run OGGM under various scenarios **starting from the end year of the historical spin-up run**:"
   ]
  },
  {
   "cell_type": "code",
   "execution_count": null,
   "metadata": {},
   "outputs": [],
   "source": [
    "cfg.PARAMS['store_model_geometry'] = True\n",
    "cfg.PARAMS['store_fl_diagnostics'] = True"
   ]
  },
  {
   "cell_type": "code",
   "execution_count": null,
   "metadata": {
    "scrolled": true,
    "tags": []
   },
   "outputs": [],
   "source": [
    "for ssp in ['ssp126', 'ssp370', 'ssp585']:\n",
    "    rid = f'_ISIMIP3b_{member}_{ssp}'\n",
    "    workflow.execute_entity_task(tasks.run_from_climate_data, gdirs,\n",
    "                                 climate_filename='gcm_data',  # use gcm_data, not climate_historical\n",
    "                                 climate_input_filesuffix=rid,  # use the chosen scenario\n",
    "                                 init_model_filesuffix='_spinup_historical',  # this is important! Start from 2020 glacier\n",
    "                                 output_filesuffix=rid,  # recognize the run for later\n",
    "                                );"
   ]
  },
  {
   "cell_type": "code",
   "execution_count": null,
   "metadata": {},
   "outputs": [],
   "source": [
    "from matplotlib.colors import ListedColormap\n",
    "# simple cmap that is all white\n",
    "cmap = ListedColormap(['white', 'white', 'white', 'white'])\n",
    "\n",
    "add_mesh_ice_thick_args_new = {\n",
    "    'cmap' : cmap,  # use a different matplotlib cmap\n",
    "    'show_scalar_bar': False\n",
    "    \n",
    "}"
   ]
  },
  {
   "cell_type": "markdown",
   "metadata": {},
   "source": [
    "In the following cell for each glacier and each of the 3 ssp scenarios the model data is distributed from 1D(flowline) to 2D(gridded) data and plotted with the [oggm-3dviz library](https://github.com/OGGM/oggm-3dviz)."
   ]
  },
  {
   "cell_type": "code",
   "execution_count": null,
   "metadata": {
    "scrolled": true
   },
   "outputs": [],
   "source": [
    "from oggm.sandbox import distribute_2d\n",
    "from oggm_3dviz.tools import Glacier3DViz\n",
    "from oggm_3dviz.tools.map_annotations import TextAnnotation\n",
    "\n",
    "# animations path\n",
    "animations_path = join(cfg.PATHS['working_dir'], 'animations')\n",
    "if not os.path.exists(animations_path):\n",
    "    os.makedirs(animations_path)\n",
    "dist_ds_outs = []\n",
    "for i, (glac_name, gdir) in enumerate(zip(glac_names, gdirs)):\n",
    "    # This is to add a new topography to the file (smoothed differently)\n",
    "    distribute_2d.add_smoothed_glacier_topo(gdir)\n",
    "    # This is to get the bed map at the start of the simulation\n",
    "    tasks.distribute_thickness_per_altitude(gdir)\n",
    "    # This is to prepare the glacier directory for the interpolation (needs to be done only once)\n",
    "    distribute_2d.assign_points_to_band(gdir)\n",
    "    for ssp in ['ssp126', 'ssp370', 'ssp585']:\n",
    "        rid = f'_ISIMIP3b_{member}_{ssp}'\n",
    "        dist_ds, dist_ds_out = distribute_2d.distribute_thickness_from_simulation(gdir, \n",
    "                                                              input_filesuffix=rid, \n",
    "                                                              concat_input_filesuffix='_spinup_historical',\n",
    "                                                              fl_thickness_threshold=glac_dict[glac_name]['fl_thickness_threshold'],\n",
    "                                                                rolling_mean_smoothing=glac_dict[glac_name]['rolling_mean_smoothing'],\n",
    "                                                                debug_area_timeseries=True,\n",
    "                                                                add_monthly=True\n",
    "                                                          )\n",
    "        # saving area debugging data frames\n",
    "        dist_ds_out['glac_name'] = glac_name\n",
    "        dist_ds_out['scenario'] = ssp\n",
    "        dist_ds_outs.append(dist_ds_out)\n",
    "        \n",
    "        with xr.open_dataset(gdir.get_filepath('gridded_simulation', filesuffix=f'_ISIMIP3b_{member}_{ssp}')) as ds:\n",
    "            ds_glacier = ds.sel(time=slice(2000,2101))\n",
    "\n",
    "            heading = TextAnnotation(\n",
    "                text=f'{glac_name},\\n scenario: {ssp}',\n",
    "                position='upper_edge',\n",
    "                font_size=16.5\n",
    "                )\n",
    "\n",
    "            if 'crop' in glac_dict[glac_name]:\n",
    "                x_crop = glac_dict[glac_name]['crop']['x_crop']\n",
    "                y_crop = glac_dict[glac_name]['crop']['y_crop']\n",
    "            else:\n",
    "                x_crop, y_crop = None, None\n",
    "            print(glac_name, ds_glacier['topo'].shape)\n",
    "            viz = Glacier3DViz(\n",
    "                ds_glacier,  # dataset for visualization\n",
    "                x='x',  # x-coordinate name, default is 'x'\n",
    "                y='y',  # y-coordinate name, default is 'y'\n",
    "                time='time',  # time coordinate name, default is 'time'\n",
    "                topo_bedrock='topo',\n",
    "                # topo_bedrock='bedrock',  # bedrock data variable, default is 'bedrock'\n",
    "                use_texture=True, # use satellite texture for the topography\n",
    "                ice_thickness='simulated_thickness',  # evolving ice thickness variable, default is 'simulated_thickness'\n",
    "                x_crop=x_crop,\n",
    "                y_crop=y_crop,\n",
    "                time_var_display='calendar_year',# time format displayed, opting for total years here\n",
    "                camera_args=glac_dict[glac_name]['camera_params'],\n",
    "                additional_annotations=[heading],\n",
    "                # add_mesh_ice_thick_args=add_mesh_ice_thick_args_new\n",
    "                )\n",
    "            viz.export_animation(filename=join(animations_path, f'{glac_name}_{ssp}_hi-res.mp4'),  # filename for the animation, should end with .mp4\n",
    "                     framerate=80,  # framerate of the animation, affects duration and speed\n",
    "                     quality=10,  # The range is 0 - 10. Higher quality leads to a larger file.\n",
    "                    )\n",
    "                \n",
    "        "
   ]
  },
  {
   "cell_type": "markdown",
   "metadata": {},
   "source": [
    "the following cell creates comparison plots for each glacier which has been modeled/animated. This shows the actually modeled area compared to the area which is used when plotting. This area adaption is done to smooth the animation and get rid of flickering.  \n",
    "These plots are useful to check how much the actual model output is altered for animation purposes."
   ]
  },
  {
   "cell_type": "code",
   "execution_count": null,
   "metadata": {},
   "outputs": [],
   "source": [
    "# creating area plots\n",
    "for dist in dist_ds_outs:\n",
    "    glacier_name = dist['glac_name'].iloc[0]\n",
    "    scenario = dist['scenario'].iloc[0]\n",
    "    filename=join(animations_path, f'area_graphs_{glacier_name}_{scenario}.png')\n",
    "\n",
    "    # Plot 'initial_area' and 'smoothed_area'\n",
    "    plt.figure(figsize=(10, 6))\n",
    "    plt.plot(dist['initial_area'], label='Initial Area')\n",
    "    plt.plot(dist['smoothed_area'], label='Smoothed Area')\n",
    "    plt.xlabel('Year')\n",
    "    plt.ylabel('Area')\n",
    "    plt.title(f'Glacier: {glacier_name}, Scenario: {scenario}')\n",
    "    plt.legend()\n",
    "    plt.savefig(filename)\n",
    "    plt.close()"
   ]
  },
  {
   "cell_type": "code",
   "execution_count": null,
   "metadata": {},
   "outputs": [],
   "source": []
  },
  {
   "cell_type": "code",
   "execution_count": null,
   "metadata": {},
   "outputs": [],
   "source": []
  }
 ],
 "metadata": {
  "hide_input": false,
  "kernelspec": {
   "display_name": "Python 3 (ipykernel)",
   "language": "python",
   "name": "python3"
  },
  "language_info": {
   "codemirror_mode": {
    "name": "ipython",
    "version": 3
   },
   "file_extension": ".py",
   "mimetype": "text/x-python",
   "name": "python",
   "nbconvert_exporter": "python",
   "pygments_lexer": "ipython3",
   "version": "3.11.3"
  },
  "latex_envs": {
   "LaTeX_envs_menu_present": true,
   "autoclose": false,
   "autocomplete": true,
   "bibliofile": "biblio.bib",
   "cite_by": "apalike",
   "current_citInitial": 1,
   "eqLabelWithNumbers": true,
   "eqNumInitial": 1,
   "hotkeys": {
    "equation": "Ctrl-E",
    "itemize": "Ctrl-I"
   },
   "labels_anchors": false,
   "latex_user_defs": false,
   "report_style_numbering": false,
   "user_envs_cfg": false
  },
  "nbTranslate": {
   "displayLangs": [
    "*"
   ],
   "hotkey": "alt-t",
   "langInMainMenu": true,
   "sourceLang": "en",
   "targetLang": "fr",
   "useGoogleTranslate": true
  },
  "toc": {
   "base_numbering": 1,
   "nav_menu": {},
   "number_sections": false,
   "sideBar": true,
   "skip_h1_title": true,
   "title_cell": "Table of Contents",
   "title_sidebar": "Contents",
   "toc_cell": false,
   "toc_position": {},
   "toc_section_display": true,
   "toc_window_display": false
  }
 },
 "nbformat": 4,
 "nbformat_minor": 4
}
